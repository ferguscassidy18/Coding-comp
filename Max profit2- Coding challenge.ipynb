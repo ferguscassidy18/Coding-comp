{
 "cells": [
  {
   "cell_type": "code",
   "execution_count": 21,
   "metadata": {},
   "outputs": [],
   "source": [
    "def find_min_days(prices, profit):\n",
    "    sell_day = 1\n",
    "    for x in prices:\n",
    "        past_pri = prices[0:sell_day-1]\n",
    "        for p in range(0, len(past_pri)):\n",
    "            if x - past_pri[len(past_pri)-p-1] == 3:\n",
    "                print('Yes')\n",
    "            else:\n",
    "                print('No')\n",
    "        sell_day+=1"
   ]
  },
  {
   "cell_type": "code",
   "execution_count": 19,
   "metadata": {},
   "outputs": [],
   "source": [
    "def find_min_days(prices, profit):\n",
    "    sell_day = 1\n",
    "    condition = 0\n",
    "    for x in prices:\n",
    "        if condition == 0:\n",
    "            past_pri = prices[0:sell_day-1]\n",
    "            for p in range(0, len(past_pri)):\n",
    "                if x - past_pri[len(past_pri)-p-1] == 3:\n",
    "                    print(sell_day, past_pri)\n",
    "                    condition = 1\n",
    "                    break\n",
    "                else:continue\n",
    "        elif condition==1:\n",
    "            break\n",
    "    sell_day+=1"
   ]
  },
  {
   "cell_type": "code",
   "execution_count": 22,
   "metadata": {},
   "outputs": [
    {
     "name": "stdout",
     "output_type": "stream",
     "text": [
      "No\n",
      "Yes\n",
      "Yes\n",
      "Yes\n",
      "No\n",
      "No\n"
     ]
    }
   ],
   "source": [
    "predictedSharePrices1 = [4, 4, 7, 10]\n",
    "\n",
    "prof = [3, 2]\n",
    "\n",
    "find_min_days(predictedSharePrices1, prof)"
   ]
  },
  {
   "cell_type": "code",
   "execution_count": 3,
   "metadata": {},
   "outputs": [
    {
     "data": {
      "text/plain": [
       "2"
      ]
     },
     "execution_count": 3,
     "metadata": {},
     "output_type": "execute_result"
    }
   ],
   "source": [
    "a=[1, 2]\n",
    "len(a)"
   ]
  },
  {
   "cell_type": "code",
   "execution_count": 11,
   "metadata": {},
   "outputs": [
    {
     "name": "stdout",
     "output_type": "stream",
     "text": [
      "0\n",
      "1\n"
     ]
    }
   ],
   "source": [
    "for x in range(0, 2):\n",
    "    print(x)"
   ]
  }
 ],
 "metadata": {
  "kernelspec": {
   "display_name": "Python 3",
   "language": "python",
   "name": "python3"
  },
  "language_info": {
   "codemirror_mode": {
    "name": "ipython",
    "version": 3
   },
   "file_extension": ".py",
   "mimetype": "text/x-python",
   "name": "python",
   "nbconvert_exporter": "python",
   "pygments_lexer": "ipython3",
   "version": "3.7.6"
  }
 },
 "nbformat": 4,
 "nbformat_minor": 4
}
